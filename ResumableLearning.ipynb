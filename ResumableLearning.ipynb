{
  "nbformat": 4,
  "nbformat_minor": 0,
  "metadata": {
    "colab": {
      "provenance": [],
      "gpuType": "T4",
      "include_colab_link": true
    },
    "kernelspec": {
      "name": "python3",
      "display_name": "Python 3"
    },
    "language_info": {
      "name": "python"
    },
    "accelerator": "GPU"
  },
  "cells": [
    {
      "cell_type": "markdown",
      "metadata": {
        "id": "view-in-github",
        "colab_type": "text"
      },
      "source": [
        "<a href=\"https://colab.research.google.com/github/Gonzy/tests1/blob/master/ResumableLearning.ipynb\" target=\"_parent\"><img src=\"https://colab.research.google.com/assets/colab-badge.svg\" alt=\"Open In Colab\"/></a>"
      ]
    },
    {
      "cell_type": "code",
      "execution_count": 3,
      "metadata": {
        "id": "2ntnQF0PMaYr"
      },
      "outputs": [],
      "source": [
        "!pip install ultralytics --upgrade -q > /dev/null"
      ]
    },
    {
      "cell_type": "code",
      "source": [
        "from google.colab import drive\n",
        "drive.mount('/content/gdrive')\n",
        "!ls /content/gdrive/MyDrive/datasets/\n"
      ],
      "metadata": {
        "id": "r9GVizPYMyzF",
        "colab": {
          "base_uri": "https://localhost:8080/"
        },
        "outputId": "7072f830-0bfe-4593-ab6a-fc6ecdb4bd93"
      },
      "execution_count": 2,
      "outputs": [
        {
          "output_type": "stream",
          "name": "stdout",
          "text": [
            "Mounted at /content/gdrive\n",
            "project_1  test.zip\n"
          ]
        }
      ]
    },
    {
      "cell_type": "code",
      "source": [
        "!rm -rf /content/sample_data/\n",
        "!mkdir -p /content/merged\n",
        "!cp /content/gdrive/MyDrive/datasets/project_1/merged.tar.gz /content/merged.tar.gz\n",
        "!rm /content/merged.tar.gz"
      ],
      "metadata": {
        "id": "P5xtubGhM3Y1"
      },
      "execution_count": 4,
      "outputs": []
    },
    {
      "cell_type": "code",
      "source": [
        "!tar -xzvf merged.tar.gz -C /content/merged > /dev/null"
      ],
      "metadata": {
        "collapsed": true,
        "id": "8UM5fDCsO2Iu"
      },
      "execution_count": 5,
      "outputs": []
    },
    {
      "cell_type": "code",
      "source": [
        "#!cp /content/gdrive/MyDrive/datasets/test.zip /content/test.zip\n",
        "#!unzip test.zip -d /content/test_dataset > /dev/null"
      ],
      "metadata": {
        "id": "nLonnM7zKW7i"
      },
      "execution_count": null,
      "outputs": []
    },
    {
      "cell_type": "code",
      "source": [
        "# !rm -rf /content/gdrive/MyDrive/datasets/checkpoints/project_1/\n",
        "# !mkdir /content/gdrive/MyDrive/datasets/project_1/checkpoints/"
      ],
      "metadata": {
        "id": "5AgGOGJ-O6Ur"
      },
      "execution_count": null,
      "outputs": []
    },
    {
      "cell_type": "code",
      "source": [
        "!mkdir -p /content/runs/detect/scratch-detector/\n",
        "%cd /content/runs/detect/scratch-detector/\n",
        "!tar -xzvf /content/gdrive/MyDrive/datasets/project_1/checkpoints/last.tar.gz"
      ],
      "metadata": {
        "id": "E99ORCGloMIO",
        "colab": {
          "base_uri": "https://localhost:8080/"
        },
        "outputId": "31e3b31b-2fb4-4af9-be73-ff29f78d6fc1"
      },
      "execution_count": 6,
      "outputs": [
        {
          "output_type": "stream",
          "name": "stdout",
          "text": [
            "/content/runs/detect/scratch-detector\n",
            "./\n",
            "./labels_correlogram.jpg\n",
            "./labels.jpg\n",
            "./weights/\n",
            "./weights/best.pt\n",
            "./weights/last.pt\n",
            "./train_batch0.jpg\n",
            "./train_batch1.jpg\n",
            "./results.csv\n",
            "./args.yaml\n",
            "./train_batch2.jpg\n"
          ]
        }
      ]
    },
    {
      "cell_type": "code",
      "source": [
        "# После прерывания или перед стартом нового обучения:\n",
        "if 'model' in globals():\n",
        "    model = model.to('cpu')\n",
        "    del model\n",
        "import gc\n",
        "gc.collect()\n",
        "import torch\n",
        "torch.cuda.empty_cache()\n",
        "\n",
        "import os\n",
        "os.environ[\"PYTORCH_CUDA_ALLOC_CONF\"] = \"expandable_segments:True\"\n",
        "\n",
        "# Проверить память:\n",
        "!nvidia-smiы"
      ],
      "metadata": {
        "id": "IXCQIqbUvDx9"
      },
      "execution_count": null,
      "outputs": []
    },
    {
      "cell_type": "code",
      "execution_count": null,
      "metadata": {
        "colab": {
          "base_uri": "https://localhost:8080/"
        },
        "id": "ePEn6mzlFVtk",
        "outputId": "544c5bd3-bc32-4716-c02b-c52b339a4ab2"
      },
      "outputs": [
        {
          "metadata": {
            "tags": null
          },
          "name": "stdout",
          "output_type": "stream",
          "text": [
            "/content\n",
            "Resume training\n",
            "Ultralytics 8.3.155 🚀 Python-3.11.13 torch-2.6.0+cu124 CUDA:0 (Tesla T4, 15095MiB)\n",
            "\u001b[34m\u001b[1mengine/trainer: \u001b[0magnostic_nms=False, amp=True, augment=False, auto_augment=randaugment, batch=16, bgr=0.0, box=7.5, cache=False, cfg=None, classes=None, close_mosaic=10, cls=0.5, conf=None, copy_paste=0.0, copy_paste_mode=flip, cos_lr=True, cutmix=0.0, data=/content/merged/data.yaml, degrees=0.0, deterministic=True, device=0, dfl=1.5, dnn=False, dropout=0.0, dynamic=False, embed=None, epochs=200, erasing=0.4, exist_ok=False, fliplr=0.5, flipud=0.0, format=torchscript, fraction=1.0, freeze=None, half=False, hsv_h=0.015, hsv_s=0.7, hsv_v=0.4, imgsz=640, int8=False, iou=0.7, keras=False, kobj=1.0, line_width=None, lr0=0.005, lrf=0.1, mask_ratio=4, max_det=300, mixup=0.0, mode=train, model=/content/runs/detect/scratch-detector/weights/last.pt, momentum=0.937, mosaic=1.0, multi_scale=False, name=scratch-detector, nbs=64, nms=False, opset=None, optimize=False, optimizer=auto, overlap_mask=True, patience=30, perspective=0.0, plots=True, pose=12.0, pretrained=True, profile=False, project=None, rect=False, resume=/content/runs/detect/scratch-detector/weights/last.pt, retina_masks=False, save=True, save_conf=False, save_crop=False, save_dir=runs/detect/scratch-detector, save_frames=False, save_json=False, save_period=-1, save_txt=False, scale=0.5, seed=0, shear=0.0, show=False, show_boxes=True, show_conf=True, show_labels=True, simplify=True, single_cls=False, source=None, split=val, stream_buffer=False, task=detect, time=None, tracker=botsort.yaml, translate=0.1, val=True, verbose=True, vid_stride=1, visualize=False, warmup_bias_lr=0.0, warmup_epochs=4, warmup_momentum=0.8, weight_decay=0.0005, workers=8, workspace=None\n",
            "\n",
            "                   from  n    params  module                                       arguments                     \n",
            "  0                  -1  1      1856  ultralytics.nn.modules.conv.Conv             [3, 64, 3, 2]                 \n",
            "  1                  -1  1     73984  ultralytics.nn.modules.conv.Conv             [64, 128, 3, 2]               \n",
            "  2                  -1  1    111872  ultralytics.nn.modules.block.C3k2            [128, 256, 1, True, 0.25]     \n",
            "  3                  -1  1    590336  ultralytics.nn.modules.conv.Conv             [256, 256, 3, 2]              \n",
            "  4                  -1  1    444928  ultralytics.nn.modules.block.C3k2            [256, 512, 1, True, 0.25]     \n",
            "  5                  -1  1   2360320  ultralytics.nn.modules.conv.Conv             [512, 512, 3, 2]              \n",
            "  6                  -1  1   1380352  ultralytics.nn.modules.block.C3k2            [512, 512, 1, True]           \n",
            "  7                  -1  1   2360320  ultralytics.nn.modules.conv.Conv             [512, 512, 3, 2]              \n",
            "  8                  -1  1   1380352  ultralytics.nn.modules.block.C3k2            [512, 512, 1, True]           \n",
            "  9                  -1  1    656896  ultralytics.nn.modules.block.SPPF            [512, 512, 5]                 \n",
            " 10                  -1  1    990976  ultralytics.nn.modules.block.C2PSA           [512, 512, 1]                 \n",
            " 11                  -1  1         0  torch.nn.modules.upsampling.Upsample         [None, 2, 'nearest']          \n",
            " 12             [-1, 6]  1         0  ultralytics.nn.modules.conv.Concat           [1]                           \n",
            " 13                  -1  1   1642496  ultralytics.nn.modules.block.C3k2            [1024, 512, 1, True]          \n",
            " 14                  -1  1         0  torch.nn.modules.upsampling.Upsample         [None, 2, 'nearest']          \n",
            " 15             [-1, 4]  1         0  ultralytics.nn.modules.conv.Concat           [1]                           \n",
            " 16                  -1  1    542720  ultralytics.nn.modules.block.C3k2            [1024, 256, 1, True]          \n",
            " 17                  -1  1    590336  ultralytics.nn.modules.conv.Conv             [256, 256, 3, 2]              \n",
            " 18            [-1, 13]  1         0  ultralytics.nn.modules.conv.Concat           [1]                           \n",
            " 19                  -1  1   1511424  ultralytics.nn.modules.block.C3k2            [768, 512, 1, True]           \n",
            " 20                  -1  1   2360320  ultralytics.nn.modules.conv.Conv             [512, 512, 3, 2]              \n",
            " 21            [-1, 10]  1         0  ultralytics.nn.modules.conv.Concat           [1]                           \n",
            " 22                  -1  1   1642496  ultralytics.nn.modules.block.C3k2            [1024, 512, 1, True]          \n",
            " 23        [16, 19, 22]  1   1417192  ultralytics.nn.modules.head.Detect           [8, [256, 512, 512]]          \n",
            "YOLO11m summary: 231 layers, 20,059,176 parameters, 20,059,160 gradients, 68.2 GFLOPs\n",
            "\n",
            "Transferred 649/649 items from pretrained weights\n",
            "Freezing layer 'model.23.dfl.conv.weight'\n",
            "\u001b[34m\u001b[1mAMP: \u001b[0mrunning Automatic Mixed Precision (AMP) checks...\n",
            "\u001b[34m\u001b[1mAMP: \u001b[0mchecks passed ✅\n",
            "\u001b[34m\u001b[1mtrain: \u001b[0mFast image access ✅ (ping: 0.0±0.0 ms, read: 2337.7±1003.0 MB/s, size: 140.3 KB)\n"
          ]
        },
        {
          "metadata": {
            "tags": null
          },
          "name": "stderr",
          "output_type": "stream",
          "text": [
            "\u001b[34m\u001b[1mtrain: \u001b[0mScanning /content/merged/train/labels.cache... 22692 images, 93 backgrounds, 0 corrupt: 100%|██████████| 22692/22692 [00:00<?, ?it/s]"
          ]
        },
        {
          "metadata": {
            "tags": null
          },
          "name": "stdout",
          "output_type": "stream",
          "text": [
            "\u001b[34m\u001b[1mtrain: \u001b[0m/content/merged/train/images/10231280-honda-honda_wr-v_i-vtec_vx-2020-minor_scratch-dents-kyzoprhnsn6t7wzygbbsew_jpeg.rf.727adb4bddc20c77b94e2b6e341c660c.jpg: 1 duplicate labels removed\n",
            "\u001b[34m\u001b[1mtrain: \u001b[0m/content/merged/train/images/10273265-mahindra-mahindra_tuv300_2015-2020_t10-2018-minor_scratch-dents-8qeegk1otmwprqb2qodwta_jpeg.rf.4ce5a9f8fc822aa8911fa89e34efcb38.jpg: 1 duplicate labels removed\n",
            "\u001b[34m\u001b[1mtrain: \u001b[0m/content/merged/train/images/8368960-hyundai-hyundai_elite_i20_2014-2018_asta_12-2014-minor_scratch-dents-a8mnu2soqlweeejh-2bsgcla_jpeg.rf.482e12f708419970542a1bd2367a7422.jpg: 1 duplicate labels removed\n",
            "\u001b[34m\u001b[1mtrain: \u001b[0m/content/merged/train/images/8717563-hyundai-hyundai_grand_i10_nios_asta_amt_12_kappa_vtvt-2021-minor_scratch-dents-og5xnheuqvsdx4qu3sasta_jpeg.rf.a0b6741977d96ee551f56c006069af7a.jpg: 1 duplicate labels removed\n",
            "\u001b[34m\u001b[1mtrain: \u001b[0m/content/merged/train/images/9271257-renault-renault_scala_2012-2018_rxl-2016-minor_scratch-dents-lunybi9brumj9nfmzzq_ta_jpeg.rf.45f2847db726cbf65174b53bfbe341ce.jpg: 1 duplicate labels removed\n",
            "\u001b[34m\u001b[1mtrain: \u001b[0m/content/merged/train/images/9287204-maruti-maruti_suzuki_swift_2017-2020_zdi_plus-2018-minor_scratch-dents-srktuvkst-2byod158eqtztw_jpeg.rf.bffad4201c6418ad9f3bb9bb8a61f212.jpg: 1 duplicate labels removed\n",
            "\u001b[34m\u001b[1mtrain: \u001b[0m/content/merged/train/images/9324721-hyundai-hyundai_verna_2017-2020_16_crdi_sx-2019-minor_dent-dents-bhpdr5qnq3u4ehhzzbs1wa_jpeg.rf.c5219c999856558d8eea2b8a36163090.jpg: 1 duplicate labels removed\n",
            "\u001b[34m\u001b[1mtrain: \u001b[0m/content/merged/train/images/9478594-hyundai-hyundai_new_santro_11_asta_mt-2021-minor_scratch-dents-abf6o5kzsie35-2brbc9hiqa_jpeg.rf.9c114815e206a2af80f83e2bafd9fecd.jpg: 1 duplicate labels removed\n",
            "\u001b[34m\u001b[1mtrain: \u001b[0m/content/merged/train/images/9539138-ford-ford_ecosport_2015-2017_trend_15l_tdci-2017-minor_scratch-dents-mjx6u0xvqimwj0sei-2byezg_jpeg.rf.f8d7e4dad230b33f2b1ebff6227df398.jpg: 1 duplicate labels removed\n",
            "\u001b[34m\u001b[1mtrain: \u001b[0m/content/merged/train/images/9786577-hyundai-hyundai_creta_s-2021-minor_scratch-dents-h71ymajpq0ukjntpkxpjrq_jpeg.rf.8b9cdf5645e60a6d07fb1e6476f00f87.jpg: 1 duplicate labels removed\n"
          ]
        },
        {
          "metadata": {
            "tags": null
          },
          "name": "stderr",
          "output_type": "stream",
          "text": [
            "\n"
          ]
        },
        {
          "metadata": {
            "tags": null
          },
          "name": "stdout",
          "output_type": "stream",
          "text": [
            "\u001b[34m\u001b[1malbumentations: \u001b[0mBlur(p=0.01, blur_limit=(3, 7)), MedianBlur(p=0.01, blur_limit=(3, 7)), ToGray(p=0.01, method='weighted_average', num_output_channels=3), CLAHE(p=0.01, clip_limit=(1.0, 4.0), tile_grid_size=(8, 8))\n",
            "\u001b[34m\u001b[1mval: \u001b[0mFast image access ✅ (ping: 0.0±0.0 ms, read: 814.8±741.8 MB/s, size: 61.8 KB)\n"
          ]
        },
        {
          "metadata": {
            "tags": null
          },
          "name": "stderr",
          "output_type": "stream",
          "text": [
            "\u001b[34m\u001b[1mval: \u001b[0mScanning /content/merged/valid/labels.cache... 4862 images, 21 backgrounds, 0 corrupt: 100%|██████████| 4862/4862 [00:00<?, ?it/s]\n"
          ]
        },
        {
          "metadata": {
            "tags": null
          },
          "name": "stdout",
          "output_type": "stream",
          "text": [
            "Plotting labels to runs/detect/scratch-detector/labels.jpg... \n",
            "\u001b[34m\u001b[1moptimizer:\u001b[0m 'optimizer=auto' found, ignoring 'lr0=0.005' and 'momentum=0.937' and determining best 'optimizer', 'lr0' and 'momentum' automatically... \n",
            "\u001b[34m\u001b[1moptimizer:\u001b[0m SGD(lr=0.01, momentum=0.9) with parameter groups 106 weight(decay=0.0), 113 weight(decay=0.0005), 112 bias(decay=0.0)\n",
            "Resuming training /content/runs/detect/scratch-detector/weights/last.pt from epoch 6 to 200 total epochs\n",
            "Image sizes 640 train, 640 val\n",
            "Using 2 dataloader workers\n",
            "Logging results to \u001b[1mruns/detect/scratch-detector\u001b[0m\n",
            "Starting training for 200 epochs...\n",
            "\n",
            "      Epoch    GPU_mem   box_loss   cls_loss   dfl_loss  Instances       Size\n"
          ]
        },
        {
          "metadata": {
            "tags": null
          },
          "name": "stderr",
          "output_type": "stream",
          "text": [
            "      6/200      8.47G       1.73       2.67      1.872         14        640: 100%|██████████| 1419/1419 [13:47<00:00,  1.71it/s]\n",
            "                 Class     Images  Instances      Box(P          R      mAP50  mAP50-95): 100%|██████████| 152/152 [01:13<00:00,  2.08it/s]\n"
          ]
        },
        {
          "metadata": {
            "tags": null
          },
          "name": "stdout",
          "output_type": "stream",
          "text": [
            "                   all       4862       9301      0.487      0.403       0.39      0.249\n",
            "BEGIn callback\n",
            "5 True\n",
            "Rename previous file\n",
            "END callback\n",
            "\n",
            "      Epoch    GPU_mem   box_loss   cls_loss   dfl_loss  Instances       Size\n"
          ]
        },
        {
          "metadata": {
            "tags": null
          },
          "name": "stderr",
          "output_type": "stream",
          "text": [
            "      7/200      8.42G      1.669      2.524      1.816         14        640: 100%|██████████| 1419/1419 [13:51<00:00,  1.71it/s]\n",
            "                 Class     Images  Instances      Box(P          R      mAP50  mAP50-95): 100%|██████████| 152/152 [01:11<00:00,  2.13it/s]\n"
          ]
        },
        {
          "metadata": {
            "tags": null
          },
          "name": "stdout",
          "output_type": "stream",
          "text": [
            "                   all       4862       9301       0.52      0.445      0.437       0.29\n",
            "BEGIn callback\n",
            "6 True\n",
            "Rename previous file\n",
            "END callback\n",
            "\n",
            "      Epoch    GPU_mem   box_loss   cls_loss   dfl_loss  Instances       Size\n"
          ]
        },
        {
          "metadata": {
            "tags": null
          },
          "name": "stderr",
          "output_type": "stream",
          "text": [
            "      8/200      8.45G      1.628      2.419      1.771         18        640: 100%|██████████| 1419/1419 [13:49<00:00,  1.71it/s]\n",
            "                 Class     Images  Instances      Box(P          R      mAP50  mAP50-95): 100%|██████████| 152/152 [01:11<00:00,  2.13it/s]\n"
          ]
        },
        {
          "metadata": {
            "tags": null
          },
          "name": "stdout",
          "output_type": "stream",
          "text": [
            "                   all       4862       9301      0.543      0.457       0.47      0.331\n",
            "BEGIn callback\n",
            "7 True\n",
            "Rename previous file\n",
            "END callback\n",
            "\n",
            "      Epoch    GPU_mem   box_loss   cls_loss   dfl_loss  Instances       Size\n"
          ]
        },
        {
          "metadata": {
            "tags": null
          },
          "name": "stderr",
          "output_type": "stream",
          "text": [
            "      9/200      8.41G      1.591      2.339       1.74         12        640: 100%|██████████| 1419/1419 [13:49<00:00,  1.71it/s]\n",
            "                 Class     Images  Instances      Box(P          R      mAP50  mAP50-95): 100%|██████████| 152/152 [01:11<00:00,  2.11it/s]\n"
          ]
        },
        {
          "metadata": {
            "tags": null
          },
          "name": "stdout",
          "output_type": "stream",
          "text": [
            "                   all       4862       9301      0.613      0.478      0.501      0.348\n",
            "BEGIn callback\n",
            "8 True\n",
            "Rename previous file\n",
            "END callback\n",
            "\n",
            "      Epoch    GPU_mem   box_loss   cls_loss   dfl_loss  Instances       Size\n"
          ]
        },
        {
          "metadata": {
            "tags": null
          },
          "name": "stderr",
          "output_type": "stream",
          "text": [
            "     10/200      8.47G      1.564      2.279      1.723         12        640: 100%|██████████| 1419/1419 [13:47<00:00,  1.71it/s]\n",
            "                 Class     Images  Instances      Box(P          R      mAP50  mAP50-95): 100%|██████████| 152/152 [01:11<00:00,  2.13it/s]\n"
          ]
        },
        {
          "metadata": {
            "tags": null
          },
          "name": "stdout",
          "output_type": "stream",
          "text": [
            "                   all       4862       9301      0.595      0.498       0.52      0.368\n",
            "BEGIn callback\n",
            "9 True\n",
            "Rename previous file\n",
            "END callback\n",
            "\n",
            "      Epoch    GPU_mem   box_loss   cls_loss   dfl_loss  Instances       Size\n"
          ]
        },
        {
          "metadata": {
            "tags": null
          },
          "name": "stderr",
          "output_type": "stream",
          "text": [
            "     11/200      8.41G      1.542      2.225      1.701         14        640: 100%|██████████| 1419/1419 [13:48<00:00,  1.71it/s]\n",
            "                 Class     Images  Instances      Box(P          R      mAP50  mAP50-95): 100%|██████████| 152/152 [01:10<00:00,  2.14it/s]\n"
          ]
        },
        {
          "metadata": {
            "tags": null
          },
          "name": "stdout",
          "output_type": "stream",
          "text": [
            "                   all       4862       9301      0.595      0.501      0.526      0.374\n",
            "BEGIn callback\n",
            "10 True\n",
            "Rename previous file\n",
            "END callback\n",
            "\n",
            "      Epoch    GPU_mem   box_loss   cls_loss   dfl_loss  Instances       Size\n"
          ]
        },
        {
          "metadata": {
            "tags": null
          },
          "name": "stderr",
          "output_type": "stream",
          "text": [
            "     12/200      8.49G      1.518      2.182      1.682         17        640: 100%|██████████| 1419/1419 [13:48<00:00,  1.71it/s]\n",
            "                 Class     Images  Instances      Box(P          R      mAP50  mAP50-95): 100%|██████████| 152/152 [01:11<00:00,  2.13it/s]\n"
          ]
        },
        {
          "metadata": {
            "tags": null
          },
          "name": "stdout",
          "output_type": "stream",
          "text": [
            "                   all       4862       9301      0.605      0.507      0.533      0.387\n",
            "BEGIn callback\n",
            "11 True\n",
            "Rename previous file\n",
            "END callback\n",
            "\n",
            "      Epoch    GPU_mem   box_loss   cls_loss   dfl_loss  Instances       Size\n"
          ]
        },
        {
          "metadata": {
            "tags": null
          },
          "name": "stderr",
          "output_type": "stream",
          "text": [
            "     13/200      8.39G      1.494      2.137      1.662          8        640: 100%|██████████| 1419/1419 [13:50<00:00,  1.71it/s]\n",
            "                 Class     Images  Instances      Box(P          R      mAP50  mAP50-95): 100%|██████████| 152/152 [01:11<00:00,  2.12it/s]\n"
          ]
        },
        {
          "metadata": {
            "tags": null
          },
          "name": "stdout",
          "output_type": "stream",
          "text": [
            "                   all       4862       9301      0.632      0.519      0.555      0.402\n",
            "BEGIn callback\n",
            "12 True\n",
            "Rename previous file\n",
            "END callback\n",
            "\n",
            "      Epoch    GPU_mem   box_loss   cls_loss   dfl_loss  Instances       Size\n"
          ]
        },
        {
          "metadata": {
            "tags": null
          },
          "name": "stderr",
          "output_type": "stream",
          "text": [
            "     14/200      8.49G      1.485      2.101      1.654         17        640: 100%|██████████| 1419/1419 [13:50<00:00,  1.71it/s]\n",
            "                 Class     Images  Instances      Box(P          R      mAP50  mAP50-95): 100%|██████████| 152/152 [01:11<00:00,  2.13it/s]\n"
          ]
        },
        {
          "metadata": {
            "tags": null
          },
          "name": "stdout",
          "output_type": "stream",
          "text": [
            "                   all       4862       9301      0.624      0.538      0.567      0.407\n",
            "BEGIn callback\n",
            "13 True\n",
            "Rename previous file\n",
            "END callback\n",
            "\n",
            "      Epoch    GPU_mem   box_loss   cls_loss   dfl_loss  Instances       Size\n"
          ]
        },
        {
          "output_type": "stream",
          "name": "stderr",
          "text": [
            "     15/200      8.45G      1.461      2.061      1.629         36        640:  27%|██▋       | 378/1419 [03:41<09:59,  1.74it/s]"
          ]
        }
      ],
      "source": [
        "%cd /content/\n",
        "\n",
        "from ultralytics import YOLO\n",
        "import os\n",
        "import shutil\n",
        "from pathlib import Path\n",
        "\n",
        "\n",
        "\n",
        "checkpoint_dir = \"/content/gdrive/MyDrive/datasets/project_1/checkpoints\"\n",
        "last_filename = \"last.tar.gz\"\n",
        "last_gz_path = f\"{checkpoint_dir}/{last_filename}\"\n",
        "\n",
        "def on_fit_epoch_end(trainer):\n",
        "\n",
        "    run_dir = Path(\"/content/\") / trainer.save_dir.resolve()\n",
        "    print(\"start archiving...\")\n",
        "    !tar -czvf {last_filename} -C {run_dir} . > /dev/null\n",
        "    print(\"end archiving...\")\n",
        "\n",
        "    if trainer.epoch > 0 and os.path.exists(last_gz_path):\n",
        "      print(\"Rename prev file\")\n",
        "      !mv \"{last_gz_path}\" \"{checkpoint_dir}/epoch{trainer.epoch - 1}.tar.gz\"\n",
        "\n",
        "    !cp {last_filename} \"{checkpoint_dir}\"\n",
        "    !rm {last_filename}\n",
        "    print(\"backup complete!\")\n",
        "\n",
        "\n",
        "is_resume = False\n",
        "model = \"/content/runs/detect/scratch-detector/weights/last.pt\"\n",
        "\n",
        "if os.path.exists(model):\n",
        "  is_resume = True\n",
        "  print(\"Resume training\")\n",
        "else:\n",
        "  model = 'yolo11m.pt'\n",
        "  print(\"Start training\")\n",
        "\n",
        "model = YOLO(model)\n",
        "model.add_callback('on_fit_epoch_end', on_fit_epoch_end)\n",
        "\n",
        "results = model.train(\n",
        "    data='/content/merged/data.yaml',\n",
        "    epochs=200,\n",
        "    imgsz=640,\n",
        "    batch=16,\n",
        "    name=\"scratch-detector\",\n",
        "    device=0,\n",
        "    val=True,\n",
        "    save=True,\n",
        "    cache=False,\n",
        "    save_dir=\"/content/runs/\",\n",
        "    resume=is_resume,\n",
        "    lr0=0.005,\n",
        "    lrf=0.1,\n",
        "    cos_lr=True,\n",
        "    warmup_epochs=4,\n",
        "    warmup_momentum=0.8,\n",
        "    warmup_bias_lr=0.1,\n",
        "    patience=30,\n",
        "    mosaic=1.0,\n",
        "    mixup=0.2,\n",
        "    hsv_h=0.03,\n",
        "    hsv_s=0.6,\n",
        "    hsv_v=0.5,\n",
        "    fliplr=0.5,\n",
        "    flipud=0.1,\n",
        "    translate=0.1,\n",
        "    scale=0.5,\n",
        "    perspective=0.0005,\n",
        "    freeze=10\n",
        ")"
      ]
    },
    {
      "cell_type": "code",
      "source": [
        "#!rm -rf /content/content\n",
        "#!rm -rf /content/merged/\n",
        "#!rm -rf /content/runs/\n",
        "#!rm -rf /content/gdrive/MyDrive/models/checkpoints/test/\n",
        "#!mkdir -P /content/gdrive/MyDrive/models/checkpoints/test/\n",
        "#!ls /content/gdrive/MyDrive/models/checkpoints/test/\n"
      ],
      "metadata": {
        "id": "T-sXLKUROUVg"
      },
      "execution_count": null,
      "outputs": []
    }
  ]
}